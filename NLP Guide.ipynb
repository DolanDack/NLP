{
 "cells": [
  {
   "cell_type": "markdown",
   "id": "quantitative-darkness",
   "metadata": {},
   "source": [
    "# Introduction to NLP"
   ]
  },
  {
   "cell_type": "markdown",
   "id": "nearby-rings",
   "metadata": {},
   "source": [
    "---"
   ]
  },
  {
   "cell_type": "markdown",
   "id": "radical-passport",
   "metadata": {},
   "source": [
    "* [1. Natural Language Processing in Action](https://www.google.co.uk/books/edition/Natural_Language_Processing_in_Action/UyHgswEACAAJ?hl=en)\n",
    "* [2. Bayesian Analysis in Natural Language Processing](https://www.google.co.uk/books/edition/Bayesian_Analysis_in_Natural_Language_Pr/3KeRDwAAQBAJ?hl=en&gbpv=0)"
   ]
  },
  {
   "cell_type": "markdown",
   "id": "metallic-transcription",
   "metadata": {},
   "source": [
    "---"
   ]
  },
  {
   "cell_type": "markdown",
   "id": "champion-contamination",
   "metadata": {},
   "source": [
    "In this guide I skip the introduction and general content. I aim to use this notebook as a fast accessible guide based on extracts from the aforementioned biblioraphy for anyone who wants to start working on NLP models."
   ]
  },
  {
   "cell_type": "markdown",
   "id": "aggregate-juice",
   "metadata": {},
   "source": [
    "## Preprocessing text files"
   ]
  },
  {
   "cell_type": "markdown",
   "id": "armed-examination",
   "metadata": {},
   "source": [
    "The first step in modeling language data is similar to any other data source. I will start with preprocessing a text file before I move into the actual modeling component. "
   ]
  },
  {
   "cell_type": "markdown",
   "id": "correct-compilation",
   "metadata": {},
   "source": [
    "**Keywords: **\n",
    "\n",
    "* Tokenizer: is the process of segmenting the document into smaller parts. Usually, it means to break a continuous text input into sentences or individual words. \n",
    "* One-hot word vectors: are matrices of one and zeros that capture the sequence of the words in a document. For instance, the rows represent the word count from the begining of the sentence and the columns the unique words. \n",
    "* Bag-of-words vector: they describe the frequency of each word in the "
   ]
  },
  {
   "cell_type": "code",
   "execution_count": null,
   "id": "million-keyboard",
   "metadata": {},
   "outputs": [],
   "source": []
  }
 ],
 "metadata": {
  "kernelspec": {
   "display_name": "Python 3",
   "language": "python",
   "name": "python3"
  },
  "language_info": {
   "codemirror_mode": {
    "name": "ipython",
    "version": 3
   },
   "file_extension": ".py",
   "mimetype": "text/x-python",
   "name": "python",
   "nbconvert_exporter": "python",
   "pygments_lexer": "ipython3",
   "version": "3.8.5"
  }
 },
 "nbformat": 4,
 "nbformat_minor": 5
}
